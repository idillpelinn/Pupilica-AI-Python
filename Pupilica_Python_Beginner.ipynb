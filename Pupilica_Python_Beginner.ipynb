{
  "nbformat": 4,
  "nbformat_minor": 0,
  "metadata": {
    "colab": {
      "provenance": [],
      "authorship_tag": "ABX9TyO/oUsiUJwWAMRqvFFQnn5K",
      "include_colab_link": true
    },
    "kernelspec": {
      "name": "python3",
      "display_name": "Python 3"
    },
    "language_info": {
      "name": "python"
    }
  },
  "cells": [
    {
      "cell_type": "markdown",
      "metadata": {
        "id": "view-in-github",
        "colab_type": "text"
      },
      "source": [
        "<a href=\"https://colab.research.google.com/github/idillpelinn/Pupilica-AI-Python/blob/main/Pupilica_Python_Beginner.ipynb\" target=\"_parent\"><img src=\"https://colab.research.google.com/assets/colab-badge.svg\" alt=\"Open In Colab\"/></a>"
      ]
    },
    {
      "cell_type": "code",
      "execution_count": 2,
      "metadata": {
        "colab": {
          "base_uri": "https://localhost:8080/"
        },
        "id": "Dq2d4pGkzDCk",
        "outputId": "91f110a1-76a7-41f5-c6d4-0c00f81ac961"
      },
      "outputs": [
        {
          "output_type": "execute_result",
          "data": {
            "text/plain": [
              "float"
            ]
          },
          "metadata": {},
          "execution_count": 2
        }
      ],
      "source": [
        "#type() : Değişkenin türünü gösterir\n",
        "metin = \"Hello World\"\n",
        "number = 3.14\n",
        "type(number)"
      ]
    },
    {
      "cell_type": "code",
      "source": [
        "#f string : Pythonda f-stringler, stringleri biçimlendirmenin daha okunabilir ve kullanışlı bir yoludur\n",
        "name = \"John\"\n",
        "age = 30\n",
        "print(f\"{name} is {age} years old.\")"
      ],
      "metadata": {
        "colab": {
          "base_uri": "https://localhost:8080/"
        },
        "id": "N1nRHOSyztOP",
        "outputId": "ca663385-87f0-488f-efe6-a648f5d69ac7"
      },
      "execution_count": 3,
      "outputs": [
        {
          "output_type": "stream",
          "name": "stdout",
          "text": [
            "John is 30 years old.\n"
          ]
        }
      ]
    },
    {
      "cell_type": "code",
      "source": [
        "#Python'da değişken isimleri büyük-küçük harfe duyarlıdır.\n",
        "metin=\"Ayşe\"\n",
        "Metin=\"Fatma\"\n",
        "METİN=\"Mehmet\"\n",
        "metin"
      ],
      "metadata": {
        "colab": {
          "base_uri": "https://localhost:8080/",
          "height": 35
        },
        "id": "xwc2l2B4z_rb",
        "outputId": "ae50160a-f587-48ef-b0ab-a2d10fc63812"
      },
      "execution_count": 4,
      "outputs": [
        {
          "output_type": "execute_result",
          "data": {
            "text/plain": [
              "'Ayşe'"
            ],
            "application/vnd.google.colaboratory.intrinsic+json": {
              "type": "string"
            }
          },
          "metadata": {},
          "execution_count": 4
        }
      ]
    },
    {
      "cell_type": "code",
      "source": [
        "# --- # ile tek satır comment eklersin\n",
        "\"\"\"\n",
        "3 tırnak arasına istediğin satır sayısı kadar comment ekleyebilirsin\n",
        "\"\"\""
      ],
      "metadata": {
        "id": "IOTHaK1X0PUn"
      },
      "execution_count": null,
      "outputs": []
    },
    {
      "cell_type": "code",
      "source": [
        "# build-in function: Python dilinin içinde hazır olarak bulunan ve doğrudan kullanılabilecek fonksiyonlardır.\n",
        "# print(), type(), len(), input(), int(), float(), str(), max(),min(), range()....\n",
        "print(\"print: build-in function\")"
      ],
      "metadata": {
        "colab": {
          "base_uri": "https://localhost:8080/"
        },
        "id": "UMLGMpv80dBa",
        "outputId": "651d019e-4c0c-4ad9-9511-7af8d72b4da4"
      },
      "execution_count": 5,
      "outputs": [
        {
          "output_type": "stream",
          "name": "stdout",
          "text": [
            "print: build-in function\n"
          ]
        }
      ]
    },
    {
      "cell_type": "markdown",
      "source": [
        "# **FUNCTIONS**\n"
      ],
      "metadata": {
        "id": "VWvXfV300-N6"
      }
    },
    {
      "cell_type": "markdown",
      "source": [
        "\n",
        "\n",
        "*    **User Defined Function**\n",
        "\n",
        "\n",
        "\n",
        "\n"
      ],
      "metadata": {
        "id": "pKf8b4K71Ir5"
      }
    },
    {
      "cell_type": "code",
      "source": [
        "PI = 3.14\n",
        "def daireAlaniHesapla(r):\n",
        "  \"\"\"\n",
        "  Bu fonksiyon dairenn alanını hesaplar.\n",
        "  input parameters: r (yaricap)\n",
        "  output parameters:daire_alani\n",
        "  \"\"\"\n",
        "  daire_alani = PI * r**2\n",
        "  return daire_alani\n",
        "\n",
        "\n",
        "def daireCevresiHesapla(r):\n",
        "  \"\"\"\n",
        "  Bu fonksiyon dairenin çevresini hesaplar.\n",
        "  input parameters: r (yaricap)\n",
        "  output parameters:daire_cevresi\n",
        "  \"\"\"\n",
        "  daire_cevresi = 2 * PI * r\n",
        "  return daire_cevresi\n",
        "\n",
        "\n",
        "user_input = input(\"Lütfen dairenin yarıçapını giriniz: \")\n",
        "#input ile kullanıcıdan değer alırız\n",
        "user_input = int(user_input)\n",
        "print(f\"girilen deger: {user_input} ve girilen degerin türü : {type(user_input)}\")\n",
        "#int() ile integer değer alırız.\n",
        "print(f\"DaireAlani: {daireAlaniHesapla(user_input)}, DaireCevresi:{daireCevresiHesapla(user_input)}\")\n",
        "\n"
      ],
      "metadata": {
        "colab": {
          "base_uri": "https://localhost:8080/"
        },
        "id": "K4g5MWnT1P_2",
        "outputId": "bbb3a485-d714-4d51-bfe5-0ac47287f11d"
      },
      "execution_count": 17,
      "outputs": [
        {
          "output_type": "stream",
          "name": "stdout",
          "text": [
            "Lütfen dairenin yarıçapını giriniz: 8\n",
            "girilen deger: 8 ve girilen degerin türü : <class 'int'>\n",
            "DaireAlani: 200.96, DaireCevresi:50.24\n"
          ]
        }
      ]
    },
    {
      "cell_type": "markdown",
      "source": [
        "# **# VERİ TİPLERİ**"
      ],
      "metadata": {
        "id": "a0Ok4CMD3oj9"
      }
    },
    {
      "cell_type": "markdown",
      "source": [
        "* ***LİSTE (list)***\n",
        "*   Yapı: Listeler köşeli parantez [] kullanılarak oluşturulur ve elemanları virgülle ayrılır.\n",
        "*   Değiştirilebilirler:  değiştirilebilir (mutable), yani elemanları değiştirilebilir, eklenemez veya silinebilir.\n",
        "*   Kullanım: Listeler genellikle dinamik verileri depolamak için kullanılır\n",
        "\n",
        "\n"
      ],
      "metadata": {
        "id": "WBheoOo2300i"
      }
    },
    {
      "cell_type": "code",
      "source": [
        "alışveris_listesi = [\"sut\", \"un\", \"kahve\"]\n",
        "print(alışveris_listesi)\n",
        "type(alışveris_listesi)\n"
      ],
      "metadata": {
        "colab": {
          "base_uri": "https://localhost:8080/"
        },
        "id": "gAKq9a7y4AhY",
        "outputId": "cfa18b14-b88a-4d30-ca51-71eb9130271d"
      },
      "execution_count": 21,
      "outputs": [
        {
          "output_type": "stream",
          "name": "stdout",
          "text": [
            "['sut', 'un', 'kahve']\n"
          ]
        },
        {
          "output_type": "execute_result",
          "data": {
            "text/plain": [
              "list"
            ]
          },
          "metadata": {},
          "execution_count": 21
        }
      ]
    },
    {
      "cell_type": "code",
      "source": [
        "#farklı veri türleri bir arada bulunabilir\n",
        "karışık_liste = [\"elma\", 12, 3.14, True, [1, 2, 3]]\n",
        "karışık_liste"
      ],
      "metadata": {
        "colab": {
          "base_uri": "https://localhost:8080/"
        },
        "id": "yqQDLESM4T3b",
        "outputId": "0fb6a360-5755-4619-d8bc-39e8633f8182"
      },
      "execution_count": 20,
      "outputs": [
        {
          "output_type": "execute_result",
          "data": {
            "text/plain": [
              "['elma', 12, 3.14, True, [1, 2, 3]]"
            ]
          },
          "metadata": {},
          "execution_count": 20
        }
      ]
    },
    {
      "cell_type": "code",
      "source": [],
      "metadata": {
        "id": "x08yqmr75A7V"
      },
      "execution_count": null,
      "outputs": []
    },
    {
      "cell_type": "code",
      "source": [
        "haftanin_günleri = [\"pazartesi\", \"salı\", \"çarşamba\", \"perşembe\", \"cuma\", \"cumartesi\", \"pazar\"]\n"
      ],
      "metadata": {
        "id": "Y_hB52or4b9R"
      },
      "execution_count": 22,
      "outputs": []
    },
    {
      "cell_type": "code",
      "source": [
        "#indexleme\n",
        "haftanin_günleri[0]\n",
        "haftanin_günleri[len(haftanin_günleri)-1] #liste uzunluğu -1 son elemana denk gelir\n",
        "haftanin_günleri[-1] #son eleman"
      ],
      "metadata": {
        "colab": {
          "base_uri": "https://localhost:8080/",
          "height": 35
        },
        "id": "5D3hTRVD4la7",
        "outputId": "62835f66-7d6a-4a26-c342-a31f1705b72c"
      },
      "execution_count": 25,
      "outputs": [
        {
          "output_type": "execute_result",
          "data": {
            "text/plain": [
              "'pazar'"
            ],
            "application/vnd.google.colaboratory.intrinsic+json": {
              "type": "string"
            }
          },
          "metadata": {},
          "execution_count": 25
        }
      ]
    },
    {
      "cell_type": "code",
      "source": [
        "#perşembe cuma cumartesi pazar\n",
        "haftanin_günleri[3:]\n",
        "haftanin_günleri[3:len(haftanin_günleri)-1]\n",
        "haftanin_günleri[-4:]"
      ],
      "metadata": {
        "colab": {
          "base_uri": "https://localhost:8080/"
        },
        "id": "G1KIM9qe47R7",
        "outputId": "30a6e22c-3e87-465b-a37c-d3aad61aacf3"
      },
      "execution_count": 30,
      "outputs": [
        {
          "output_type": "execute_result",
          "data": {
            "text/plain": [
              "['perşembe', 'cuma', 'cumartesi', 'pazar']"
            ]
          },
          "metadata": {},
          "execution_count": 30
        }
      ]
    },
    {
      "cell_type": "code",
      "source": [
        "#sayı listesi\n",
        "number_list=[1,2,3,4,5,6]"
      ],
      "metadata": {
        "id": "lFABzmxn5TwK"
      },
      "execution_count": 46,
      "outputs": []
    },
    {
      "cell_type": "code",
      "source": [
        "#listeye eleman ekleme : append(eklenecek değer)\n",
        "number_list.append(9)\n",
        "number_list"
      ],
      "metadata": {
        "colab": {
          "base_uri": "https://localhost:8080/"
        },
        "id": "UMJwVds05ali",
        "outputId": "5e2e464f-5d80-419c-92a8-b93ac8ffc999"
      },
      "execution_count": 47,
      "outputs": [
        {
          "output_type": "execute_result",
          "data": {
            "text/plain": [
              "[1, 2, 3, 4, 5, 6, 9]"
            ]
          },
          "metadata": {},
          "execution_count": 47
        }
      ]
    },
    {
      "cell_type": "code",
      "source": [
        "#listeden eleman silme : remove(silinecek değer)\n",
        "number_list.remove(6)\n",
        "number_list"
      ],
      "metadata": {
        "colab": {
          "base_uri": "https://localhost:8080/"
        },
        "id": "g6agU2dZ5hse",
        "outputId": "f8080c4c-63f3-4893-fc2f-ae131ead4261"
      },
      "execution_count": 48,
      "outputs": [
        {
          "output_type": "execute_result",
          "data": {
            "text/plain": [
              "[1, 2, 3, 4, 5, 9]"
            ]
          },
          "metadata": {},
          "execution_count": 48
        }
      ]
    },
    {
      "cell_type": "code",
      "source": [
        "#Son elemanı silme\n",
        "number_list.pop()\n",
        "number_list\n"
      ],
      "metadata": {
        "colab": {
          "base_uri": "https://localhost:8080/"
        },
        "id": "pIRCiB2b58VG",
        "outputId": "e433712c-a7a0-4d25-c887-ad48bbb01e2d"
      },
      "execution_count": 49,
      "outputs": [
        {
          "output_type": "execute_result",
          "data": {
            "text/plain": [
              "[1, 2, 3, 4, 5]"
            ]
          },
          "metadata": {},
          "execution_count": 49
        }
      ]
    },
    {
      "cell_type": "code",
      "source": [
        "#belirli bir indexteki değeri silme\n",
        "number_list.pop(2)\n",
        "number_list"
      ],
      "metadata": {
        "colab": {
          "base_uri": "https://localhost:8080/"
        },
        "id": "Dd12lg9M6Osg",
        "outputId": "eb90f47b-5e10-4e81-a4d5-79679dcfed51"
      },
      "execution_count": 50,
      "outputs": [
        {
          "output_type": "execute_result",
          "data": {
            "text/plain": [
              "[1, 2, 4, 5]"
            ]
          },
          "metadata": {},
          "execution_count": 50
        }
      ]
    },
    {
      "cell_type": "code",
      "source": [
        "#sayı listesi\n",
        "number_list=[8,2,3,5,78,0,]"
      ],
      "metadata": {
        "id": "RZBKJhww6YTk"
      },
      "execution_count": 54,
      "outputs": []
    },
    {
      "cell_type": "code",
      "source": [
        "#listeyi ters çevirme\n",
        "number_list.reverse()\n",
        "number_list"
      ],
      "metadata": {
        "colab": {
          "base_uri": "https://localhost:8080/"
        },
        "id": "Nls-2EsK6bzn",
        "outputId": "01af7d65-83f0-4c7f-8d22-de5142010c72"
      },
      "execution_count": 55,
      "outputs": [
        {
          "output_type": "execute_result",
          "data": {
            "text/plain": [
              "[0, 78, 5, 3, 2, 8]"
            ]
          },
          "metadata": {},
          "execution_count": 55
        }
      ]
    },
    {
      "cell_type": "code",
      "source": [
        "#listeyi K--> B sıralama: sort()-> liste üzerinde doğrudan değişiklik yapar geriye değer döndürmez\n",
        "number_list.sort()\n",
        "number_list"
      ],
      "metadata": {
        "colab": {
          "base_uri": "https://localhost:8080/"
        },
        "id": "xUS5-7fR6gKW",
        "outputId": "c1872594-ef49-4699-c216-9988b6deaad7"
      },
      "execution_count": 56,
      "outputs": [
        {
          "output_type": "execute_result",
          "data": {
            "text/plain": [
              "[0, 2, 3, 5, 8, 78]"
            ]
          },
          "metadata": {},
          "execution_count": 56
        }
      ]
    },
    {
      "cell_type": "code",
      "source": [
        "#listeyi K--> B sıralam: sorted() -> Orijinal listeyi değiştirmez, Sıralanmış yeni listeyi döndürür\n",
        "number_list2=sorted(number_list)\n",
        "number_list2"
      ],
      "metadata": {
        "colab": {
          "base_uri": "https://localhost:8080/"
        },
        "id": "n9YlWyxt64aH",
        "outputId": "dd951362-7c75-4e8e-e42d-31f54579e15a"
      },
      "execution_count": 57,
      "outputs": [
        {
          "output_type": "execute_result",
          "data": {
            "text/plain": [
              "[0, 2, 3, 5, 8, 78]"
            ]
          },
          "metadata": {},
          "execution_count": 57
        }
      ]
    },
    {
      "cell_type": "markdown",
      "source": [
        "\n",
        "\n",
        "# *   ***Tuple*** *italik metin\n",
        "\n",
        "*   Yapı: Parantez ile oluşturulurlar, elemanları virgülle ayrılır.\n",
        "*   Değiştirilemezler: immutable yapılardır. Yani oluşturuluktan sonra elemanları değiştirlemez, eklenemz ve silinemez\n",
        "*   Genellikle sabit verileri depolamank için kullanılır.\n",
        "*   Değiştirilemez yapılar olduğu için listeden daha hızlıdırlar.\n",
        "\n",
        "\n",
        "\n",
        "\n"
      ],
      "metadata": {
        "id": "5MLKG6Cb7Qf6"
      }
    },
    {
      "cell_type": "code",
      "source": [
        "tuple_sayi=(1,2,3,4,5)\n",
        "#indexleme\n",
        "tuple_sayi[0]\n",
        "tuple_sayi[3:]"
      ],
      "metadata": {
        "colab": {
          "base_uri": "https://localhost:8080/"
        },
        "id": "Npjo-lXH7Vky",
        "outputId": "591d78a0-b999-459a-9e8d-0f826f9b9820"
      },
      "execution_count": 60,
      "outputs": [
        {
          "output_type": "execute_result",
          "data": {
            "text/plain": [
              "(4, 5)"
            ]
          },
          "metadata": {},
          "execution_count": 60
        }
      ]
    },
    {
      "cell_type": "code",
      "source": [
        "#count() Belirtilen elemanın tuple içerisinde kaç kere geçtiğini sayar ve bu sayıyı döndürür\n",
        "tuple_sayi.count(3)"
      ],
      "metadata": {
        "colab": {
          "base_uri": "https://localhost:8080/"
        },
        "id": "ICXYx9AiAUmT",
        "outputId": "6244906b-00ed-4092-da1b-9f7eaae8ebc4"
      },
      "execution_count": 61,
      "outputs": [
        {
          "output_type": "execute_result",
          "data": {
            "text/plain": [
              "1"
            ]
          },
          "metadata": {},
          "execution_count": 61
        }
      ]
    },
    {
      "cell_type": "code",
      "source": [
        "#index() : Belirtilen elemanın tuple içindeki ilk indexini döndürür\n",
        "tuple_sayi.index(3)"
      ],
      "metadata": {
        "colab": {
          "base_uri": "https://localhost:8080/"
        },
        "id": "GR_ZjSrIAq1Q",
        "outputId": "d8d7364d-aa18-4c31-bf6b-e93ddd4cb6fe"
      },
      "execution_count": 62,
      "outputs": [
        {
          "output_type": "execute_result",
          "data": {
            "text/plain": [
              "2"
            ]
          },
          "metadata": {},
          "execution_count": 62
        }
      ]
    },
    {
      "cell_type": "markdown",
      "source": [
        "# ***Sözlük (dictionary)***\n",
        "\n",
        "*   key-value çiftleri şekilde depolanır\n",
        "dict={ \"key1\" = \"value1\",\n",
        "\"key2\" = \"value2\"} gibi tanımlanır.\n",
        "*   Değiştirilebilir: mutable\n",
        "*   Sırasızdır. Elemanların belirli bir sırası indexi yoktur.\n",
        "*   Key değerileri benzersiz olmalıdır.\n",
        "\n",
        "\n"
      ],
      "metadata": {
        "id": "qRNVyCFDA4c-"
      }
    },
    {
      "cell_type": "code",
      "source": [
        "person_dict={\"name\":\"John\", \"age\":30, \"city\":\"New York\"}\n"
      ],
      "metadata": {
        "id": "YbFJCf7eBo_W"
      },
      "execution_count": 63,
      "outputs": []
    },
    {
      "cell_type": "code",
      "source": [
        "#Dict yapısında key değerlerini öğrenmek için : keys()\n",
        "person_dict.keys()"
      ],
      "metadata": {
        "colab": {
          "base_uri": "https://localhost:8080/"
        },
        "id": "3D60lD11Bx4Q",
        "outputId": "8942e246-adc3-47e8-99ed-826a8cbafe4f"
      },
      "execution_count": 65,
      "outputs": [
        {
          "output_type": "execute_result",
          "data": {
            "text/plain": [
              "dict_keys(['name', 'age', 'city'])"
            ]
          },
          "metadata": {},
          "execution_count": 65
        }
      ]
    },
    {
      "cell_type": "code",
      "source": [
        "# Dict yapısındaki değerlere ulaşmak içiç : values()\n",
        "person_dict.values()"
      ],
      "metadata": {
        "colab": {
          "base_uri": "https://localhost:8080/"
        },
        "id": "O8SaujK4B6Iq",
        "outputId": "3f4bf025-5fe9-4e70-a6b0-c3894070cb54"
      },
      "execution_count": 68,
      "outputs": [
        {
          "output_type": "execute_result",
          "data": {
            "text/plain": [
              "dict_values(['John', 30, 'New York'])"
            ]
          },
          "metadata": {},
          "execution_count": 68
        }
      ]
    },
    {
      "cell_type": "code",
      "source": [
        "#Dict içerisindeki key-values listesini döndürür: items()\n",
        "person_dict.items()\n"
      ],
      "metadata": {
        "colab": {
          "base_uri": "https://localhost:8080/"
        },
        "id": "IWinVljACJyE",
        "outputId": "04a0ae9b-ac6b-438e-ab65-d73f400c98eb"
      },
      "execution_count": 69,
      "outputs": [
        {
          "output_type": "execute_result",
          "data": {
            "text/plain": [
              "dict_items([('name', 'John'), ('age', 30), ('city', 'New York')])"
            ]
          },
          "metadata": {},
          "execution_count": 69
        }
      ]
    },
    {
      "cell_type": "code",
      "source": [
        "#get(): belirli bir anahtara denk gelen valuesi döndürür\n",
        "person_dict.get(\"name\")"
      ],
      "metadata": {
        "colab": {
          "base_uri": "https://localhost:8080/",
          "height": 35
        },
        "id": "8qh-o3mVCZ2b",
        "outputId": "08294c47-c8f6-41f3-e5c5-a9228ae82c0c"
      },
      "execution_count": 70,
      "outputs": [
        {
          "output_type": "execute_result",
          "data": {
            "text/plain": [
              "'John'"
            ],
            "application/vnd.google.colaboratory.intrinsic+json": {
              "type": "string"
            }
          },
          "metadata": {},
          "execution_count": 70
        }
      ]
    },
    {
      "cell_type": "code",
      "source": [
        "\"\"\"\n",
        "update(): Dictionary'i başka bir dictionary veya anahtar-değer çiftleri ile günceller.\n",
        "pop(): Belirtilen anahtara karşılık gelen değeri siler ve döndürür.\n",
        "clear(): Dictionary'deki tüm elemanları siler.\n",
        "\"\"\""
      ],
      "metadata": {
        "id": "yuyA1oLOCkfi"
      },
      "execution_count": null,
      "outputs": []
    },
    {
      "cell_type": "markdown",
      "source": [
        "# ***VERİ TİPLERİ DÖNÜŞÜMÜ***"
      ],
      "metadata": {
        "id": "LMa92t3LCuwV"
      }
    },
    {
      "cell_type": "code",
      "source": [
        "metin = \"16\"\n",
        "kesirlisayi = 10.0\n",
        "tamsayi = 10"
      ],
      "metadata": {
        "id": "2JJGBeebCzR2"
      },
      "execution_count": 71,
      "outputs": []
    },
    {
      "cell_type": "code",
      "source": [
        "# str -> int\n",
        "metin_int = int(metin)\n",
        "print(metin_int)\n",
        "print(type(metin_int))"
      ],
      "metadata": {
        "colab": {
          "base_uri": "https://localhost:8080/"
        },
        "id": "5lRIOXxdC2AL",
        "outputId": "2c9ce2fa-12e6-4bc2-cebc-ff7eb5510306"
      },
      "execution_count": 72,
      "outputs": [
        {
          "output_type": "stream",
          "name": "stdout",
          "text": [
            "16\n",
            "<class 'int'>\n"
          ]
        }
      ]
    },
    {
      "cell_type": "code",
      "source": [
        "# float -> int\n",
        "kesirlisayi_int = int(kesirlisayi)\n",
        "print(kesirlisayi_int)\n",
        "print(type(kesirlisayi_int))"
      ],
      "metadata": {
        "colab": {
          "base_uri": "https://localhost:8080/"
        },
        "id": "nD3UDe_KC5cR",
        "outputId": "2f007a1f-508c-4662-c79d-d9c3c411c817"
      },
      "execution_count": 73,
      "outputs": [
        {
          "output_type": "stream",
          "name": "stdout",
          "text": [
            "10\n",
            "<class 'int'>\n"
          ]
        }
      ]
    },
    {
      "cell_type": "code",
      "source": [
        "# float -> str\n",
        "kesirlisayi_str = str(kesirlisayi)\n",
        "kesirlisayi_str"
      ],
      "metadata": {
        "colab": {
          "base_uri": "https://localhost:8080/",
          "height": 35
        },
        "id": "pv87neJyC6zc",
        "outputId": "e42be4ae-799e-47c6-82f6-7b23acbf8448"
      },
      "execution_count": 74,
      "outputs": [
        {
          "output_type": "execute_result",
          "data": {
            "text/plain": [
              "'10.0'"
            ],
            "application/vnd.google.colaboratory.intrinsic+json": {
              "type": "string"
            }
          },
          "metadata": {},
          "execution_count": 74
        }
      ]
    },
    {
      "cell_type": "code",
      "source": [
        "# int -> str\n",
        "tamsayi_str = str(tamsayi)\n",
        "tamsayi_str"
      ],
      "metadata": {
        "colab": {
          "base_uri": "https://localhost:8080/",
          "height": 35
        },
        "id": "jcT0ypJMC80V",
        "outputId": "8610abba-df45-4d10-f6b2-127f9f6f6a3d"
      },
      "execution_count": 75,
      "outputs": [
        {
          "output_type": "execute_result",
          "data": {
            "text/plain": [
              "'10'"
            ],
            "application/vnd.google.colaboratory.intrinsic+json": {
              "type": "string"
            }
          },
          "metadata": {},
          "execution_count": 75
        }
      ]
    },
    {
      "cell_type": "code",
      "source": [
        "# int -> float\n",
        "tamsayi_float = float(tamsayi)\n",
        "tamsayi_float"
      ],
      "metadata": {
        "colab": {
          "base_uri": "https://localhost:8080/"
        },
        "id": "3itMzOJOC-G_",
        "outputId": "a0497373-9023-4417-da73-33c86872576e"
      },
      "execution_count": 76,
      "outputs": [
        {
          "output_type": "execute_result",
          "data": {
            "text/plain": [
              "10.0"
            ]
          },
          "metadata": {},
          "execution_count": 76
        }
      ]
    },
    {
      "cell_type": "markdown",
      "source": [
        "# ***IF-ELSE***"
      ],
      "metadata": {
        "id": "DBM0YZ6iDBjV"
      }
    },
    {
      "cell_type": "code",
      "source": [
        "# eger sayi1 kucuktur sayi2 ise print(sayi1 kucuktur sayi2)\n",
        "sayi1 = 12\n",
        "sayi2 = 22\n",
        "\n",
        "if sayi1 < sayi2: # eger True (dogru) ise if icerisine gir\n",
        "  print(f\"sayi1: {sayi1} kucuktur sayi2: {sayi2}\")\n",
        "elif sayi2 < sayi1:\n",
        "  print(f\"sayi2:{sayi2} kucuktur sayi1:{sayi1}\")\n",
        "else:\n",
        "  print(\"sayilar esit\")"
      ],
      "metadata": {
        "colab": {
          "base_uri": "https://localhost:8080/"
        },
        "id": "69PM2tOkDDwi",
        "outputId": "6dd71ee2-3f8f-4753-f135-d2b51ed87792"
      },
      "execution_count": 77,
      "outputs": [
        {
          "output_type": "stream",
          "name": "stdout",
          "text": [
            "sayi1: 12 kucuktur sayi2: 22\n"
          ]
        }
      ]
    },
    {
      "cell_type": "markdown",
      "source": [
        "# ***FOR LOOP***"
      ],
      "metadata": {
        "id": "y0qRHINUDIdc"
      }
    },
    {
      "cell_type": "code",
      "source": [
        "liste = [1,2,3,4,5,6,7,8,9]\n",
        "\n",
        "toplam = 0\n",
        "for i in liste:\n",
        "  toplam = toplam + i\n",
        "print(toplam)\n",
        "print(sum(liste))"
      ],
      "metadata": {
        "colab": {
          "base_uri": "https://localhost:8080/"
        },
        "id": "_qBUXteLDK7p",
        "outputId": "22599dd4-975b-4934-8ef9-dba342aaa899"
      },
      "execution_count": 78,
      "outputs": [
        {
          "output_type": "stream",
          "name": "stdout",
          "text": [
            "45\n",
            "45\n"
          ]
        }
      ]
    },
    {
      "cell_type": "code",
      "source": [
        "\"\"\"\n",
        "problem: NLP, elimizde str olarak cumle var. mesela: \"Bugün Python Dersimiz Var.\"\n",
        "[\"bugün\", \"python\", \"dersimiz\", \"var.\"]\n",
        "\"\"\"\n",
        "cumle=\"Bugün Python Dersimiz Var.\"\n",
        "liste_cumle = cumle.split() #split verilen stringi ayırmak için kullanılır\n",
        "\n",
        "new_list = []\n",
        "for i in liste_cumle:\n",
        "  kelime_kucuk_harf = i.lower()\n",
        "  new_list.append(kelime_kucuk_harf)\n",
        "print(new_list)"
      ],
      "metadata": {
        "colab": {
          "base_uri": "https://localhost:8080/"
        },
        "id": "J_L6y1lvDRiC",
        "outputId": "bad0ee04-39d4-43a9-b2bc-08b41021d248"
      },
      "execution_count": 80,
      "outputs": [
        {
          "output_type": "stream",
          "name": "stdout",
          "text": [
            "['bugün', 'python', 'dersimiz', 'var.']\n"
          ]
        }
      ]
    },
    {
      "cell_type": "code",
      "source": [
        "\"\"\"\n",
        "problem: liste = [1,2,3,4,5,6]\n",
        "fonksiyon\n",
        "  girdi: liste\n",
        "  ciktisi: listenini icersinde bulunan cift sayilarin toplami olacak\n",
        "\"\"\"\n",
        "def cift_sayilarin_toplami(liste):\n",
        "  toplam = 0\n",
        "  for i in liste:\n",
        "    if i % 2 == 0:\n",
        "      toplam = toplam + i\n",
        "  return toplam\n",
        "\n",
        "liste=[4,5,6,3,7,8]\n",
        "print(cift_sayilarin_toplami(liste))"
      ],
      "metadata": {
        "colab": {
          "base_uri": "https://localhost:8080/"
        },
        "id": "jwMZkmSaDrwV",
        "outputId": "86d707fa-4b04-461b-b669-10ed92cf93c6"
      },
      "execution_count": 82,
      "outputs": [
        {
          "output_type": "stream",
          "name": "stdout",
          "text": [
            "18\n"
          ]
        }
      ]
    },
    {
      "cell_type": "markdown",
      "source": [
        "# ***WHILE LOOP***"
      ],
      "metadata": {
        "id": "t5ORlLAZD2b2"
      }
    },
    {
      "cell_type": "code",
      "source": [
        "# while ile toplama\n",
        "liste = [1,2,3,4,5,6]\n",
        "i = 0\n",
        "toplam = 0\n",
        "while(i < len(liste)): # len(liste) = 6\n",
        "  toplam = toplam + liste[i]\n",
        "  i = i + 1\n",
        "print(toplam)"
      ],
      "metadata": {
        "colab": {
          "base_uri": "https://localhost:8080/"
        },
        "id": "FwHgN_zAD7-e",
        "outputId": "a9b1724f-aec2-4e66-8934-f3330e606d9e"
      },
      "execution_count": 83,
      "outputs": [
        {
          "output_type": "stream",
          "name": "stdout",
          "text": [
            "21\n"
          ]
        }
      ]
    }
  ]
}