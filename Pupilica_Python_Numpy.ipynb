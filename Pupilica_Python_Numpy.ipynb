{
  "nbformat": 4,
  "nbformat_minor": 0,
  "metadata": {
    "colab": {
      "provenance": [],
      "authorship_tag": "ABX9TyMe9+jIVJ+v5sY6l74aTeNV",
      "include_colab_link": true
    },
    "kernelspec": {
      "name": "python3",
      "display_name": "Python 3"
    },
    "language_info": {
      "name": "python"
    }
  },
  "cells": [
    {
      "cell_type": "markdown",
      "metadata": {
        "id": "view-in-github",
        "colab_type": "text"
      },
      "source": [
        "<a href=\"https://colab.research.google.com/github/idillpelinn/Pupilica-AI-Python/blob/main/Pupilica_Python_Numpy.ipynb\" target=\"_parent\"><img src=\"https://colab.research.google.com/assets/colab-badge.svg\" alt=\"Open In Colab\"/></a>"
      ]
    },
    {
      "cell_type": "markdown",
      "source": [
        "# ***NUMPY***\n",
        "\n",
        "*  Sayısal veriler üzerinde hızlı çalışmamızı sağlar.\n",
        "*  Çok boyutlu dizilerle verimli bir şekilde çalışmanıza olanak sağlayan *ndarray* nesnesini sağlar. Bu diziler, Python listelerinden daha hızlıdır ve verimli bir şekilde saklanır.\n",
        "*  Diziler üzerinde matematiksel işlemler gerçekleştirmek için birçok fonksiyon sağlar. Örneğin, dizilerin toplamını, ortalamasını, standart sapmasını ve daha fazlasını hesaplamak için NumPy'yi kullanabilirsin.\n",
        "*  Doğrusal cebir işlemleri için fonksiyonlar sağlar. Örneğin, matris çarpımı, tersini alma, özdeğerleri ve özvektörleri hesaplamak için NumPy'yi kullanabilirsin.\n",
        "*  Verileri işlemek için fonksiyonlar sağlar. Örneğin, verileri sıralamak, filtrelemek, yeniden şekillendirmek ve daha fazlası için NumPy'yi kullanabilirsiniz."
      ],
      "metadata": {
        "id": "dsoJg2fDGKWn"
      }
    },
    {
      "cell_type": "code",
      "source": [
        "#Numpy kütüphanesini kullanmak için import ile projemize dahil etmemiz gerekiyor\n",
        "import numpy as np"
      ],
      "metadata": {
        "id": "XvPOrLlPGyoO"
      },
      "execution_count": 1,
      "outputs": []
    },
    {
      "cell_type": "code",
      "source": [
        "numpy_array = np.array([1,2,3,4,5,6,7,8,9,10,11,12,13,14,15])\n",
        "numpy_array"
      ],
      "metadata": {
        "colab": {
          "base_uri": "https://localhost:8080/"
        },
        "id": "wofunSYpHK3q",
        "outputId": "42339949-a3be-45e5-d755-29613242e466"
      },
      "execution_count": 4,
      "outputs": [
        {
          "output_type": "execute_result",
          "data": {
            "text/plain": [
              "numpy.ndarray"
            ]
          },
          "metadata": {},
          "execution_count": 4
        }
      ]
    },
    {
      "cell_type": "code",
      "source": [
        "# numpy array boyut sayısını öğrenmek için : ndim()\n",
        "#numpy arraydaki her boyutta bulunan eleman sayılarını döndürür\n",
        "#toplam eleman sayısı için : size() kullanılır.\n",
        "print(\"dimension: \",numpy_array.ndim) #boyut sayısı 1D\n",
        "print(\"shape: \",numpy_array.shape) # 15x1 lik vektör\n",
        "print(\"size: \",numpy_array.size) #toplam eleman sayısı\n",
        "print(\"type:  \", type(numpy_array))"
      ],
      "metadata": {
        "colab": {
          "base_uri": "https://localhost:8080/"
        },
        "id": "ThTkv_8oHY3x",
        "outputId": "cbdaeca8-9961-473e-f76f-b7272b45a457"
      },
      "execution_count": 5,
      "outputs": [
        {
          "output_type": "stream",
          "name": "stdout",
          "text": [
            "dimension:  1\n",
            "shape:  (15,)\n",
            "size:  15\n",
            "type:   <class 'numpy.ndarray'>\n"
          ]
        }
      ]
    },
    {
      "cell_type": "code",
      "source": [
        "from types import new_class\n",
        "new_numpy_array = numpy_array.reshape(3,5)\n",
        "print(new_numpy_array)\n",
        "print(\"dimension: \",new_numpy_array.ndim) #boyut sayısı 2 : 2D\n",
        "print(\"shape: \",new_numpy_array.shape) # 3x5lik matris\n",
        "print(\"size: \",new_numpy_array.size) #toplam eleman sayısı:15\n",
        "print(\"type:  \", type(new_numpy_array))\n"
      ],
      "metadata": {
        "colab": {
          "base_uri": "https://localhost:8080/"
        },
        "id": "CmVSzLioJnYo",
        "outputId": "ad7ecfa0-4c1a-4787-8f36-968f640cd72f"
      },
      "execution_count": 8,
      "outputs": [
        {
          "output_type": "stream",
          "name": "stdout",
          "text": [
            "[[ 1  2  3  4  5]\n",
            " [ 6  7  8  9 10]\n",
            " [11 12 13 14 15]]\n",
            "dimension:  2\n",
            "shape:  (3, 5)\n",
            "size:  15\n",
            "type:   <class 'numpy.ndarray'>\n"
          ]
        }
      ]
    },
    {
      "cell_type": "code",
      "source": [],
      "metadata": {
        "id": "uUC8LeyEKIym"
      },
      "execution_count": null,
      "outputs": []
    },
    {
      "cell_type": "markdown",
      "source": [
        "\n",
        "np.zers()--> sıfırlardan oluşan matris,\n",
        "np.ones() --> birlerden oluşan matris.\n",
        "\n",
        "  Peki neden kullanırız?\n",
        "* Başlangıç Değerleri: Bir diziyi belirli bir değerle (sıfır veya bir) başlatmak için.\n",
        "* Yer Tutucular: Daha sonra doldurulacak bir dizi için yer ayırmak için.\n",
        "* Maskeleme: Belirli elemanları seçmek veya gizlemek için (sıfırlar genellikle maskeleme için kullanılır).\n",
        "* Matematiksel İşlemler: Matris işlemlerinde veya diğer hesaplamalarda sıfır veya bir dizileri kullanmak için."
      ],
      "metadata": {
        "id": "GMZrmeJ5KUMq"
      }
    },
    {
      "cell_type": "code",
      "source": [
        "#sıfırlardan oluşan array\n",
        "nump_array_zeros = np.zeros((3,4))\n",
        "nump_array_zeros"
      ],
      "metadata": {
        "colab": {
          "base_uri": "https://localhost:8080/"
        },
        "id": "_7UeEWA-K1TM",
        "outputId": "d7e1e3e2-2ef8-4fd1-f002-8ff652928084"
      },
      "execution_count": 9,
      "outputs": [
        {
          "output_type": "execute_result",
          "data": {
            "text/plain": [
              "array([[0., 0., 0., 0.],\n",
              "       [0., 0., 0., 0.],\n",
              "       [0., 0., 0., 0.]])"
            ]
          },
          "metadata": {},
          "execution_count": 9
        }
      ]
    },
    {
      "cell_type": "code",
      "source": [
        "#Birlerden oluşan array\n",
        "nump_array_ones = np.ones((3,4))\n",
        "nump_array_ones"
      ],
      "metadata": {
        "colab": {
          "base_uri": "https://localhost:8080/"
        },
        "id": "m6SUAi6SK7kf",
        "outputId": "e1b6e0ea-a61b-4e56-c162-b65c3ef2b850"
      },
      "execution_count": 10,
      "outputs": [
        {
          "output_type": "execute_result",
          "data": {
            "text/plain": [
              "array([[1., 1., 1., 1.],\n",
              "       [1., 1., 1., 1.],\n",
              "       [1., 1., 1., 1.]])"
            ]
          },
          "metadata": {},
          "execution_count": 10
        }
      ]
    },
    {
      "cell_type": "code",
      "source": [
        "#empty array de oluşturabiliriz. İçerisindeki değerler random olarak belirlenir.\n",
        "nump_array_empty = np.empty((5,4))\n",
        "nump_array_empty"
      ],
      "metadata": {
        "colab": {
          "base_uri": "https://localhost:8080/"
        },
        "id": "8suPPS45K_y4",
        "outputId": "366e0a62-a3a5-4aab-83a5-708577ca5baa"
      },
      "execution_count": 13,
      "outputs": [
        {
          "output_type": "execute_result",
          "data": {
            "text/plain": [
              "array([[0. , 0. , 0.3, 1. ],\n",
              "       [0. , 0. , 1. , 1. ],\n",
              "       [1. , 1. , 1. , 1. ],\n",
              "       [1. , 0. , 0. , 1. ],\n",
              "       [0.5, 0. , 0. , 1. ]])"
            ]
          },
          "metadata": {},
          "execution_count": 13
        }
      ]
    },
    {
      "cell_type": "code",
      "source": [
        "#arange(x , y , basamak) : xten başlayarak y'ye kadar (y dahil değil) +basamak kadar ilerler\n",
        "nump_array_arange = np.arange(10,50,5)\n",
        "nump_array_arange"
      ],
      "metadata": {
        "colab": {
          "base_uri": "https://localhost:8080/"
        },
        "id": "KRloSHM7LS1G",
        "outputId": "d33ad957-ccd6-4396-81d7-971b062e9a3c"
      },
      "execution_count": 14,
      "outputs": [
        {
          "output_type": "execute_result",
          "data": {
            "text/plain": [
              "array([10, 15, 20, 25, 30, 35, 40, 45])"
            ]
          },
          "metadata": {},
          "execution_count": 14
        }
      ]
    },
    {
      "cell_type": "code",
      "source": [
        "#linspace(x, y , basamak) : xten başlayarak y'ye(y dahil) kadar basamak sayısına böler aslında basamak tane sayı oluşturmuş olur\n",
        "nump_array_linspace = np.linspace(10,50,15)\n",
        "nump_array_linspace"
      ],
      "metadata": {
        "colab": {
          "base_uri": "https://localhost:8080/"
        },
        "id": "A1bgVFAyLGzB",
        "outputId": "f602f02a-1e49-4e94-e0d3-56b2b4c85373"
      },
      "execution_count": 16,
      "outputs": [
        {
          "output_type": "execute_result",
          "data": {
            "text/plain": [
              "array([10.        , 12.85714286, 15.71428571, 18.57142857, 21.42857143,\n",
              "       24.28571429, 27.14285714, 30.        , 32.85714286, 35.71428571,\n",
              "       38.57142857, 41.42857143, 44.28571429, 47.14285714, 50.        ])"
            ]
          },
          "metadata": {},
          "execution_count": 16
        }
      ]
    },
    {
      "cell_type": "markdown",
      "source": [
        "# Numpy Temel Operasyonları"
      ],
      "metadata": {
        "id": "h8XwflIDLwAJ"
      }
    },
    {
      "cell_type": "code",
      "source": [
        "a = np.array([1,2,3])\n",
        "b = np.array([4,5,6])"
      ],
      "metadata": {
        "id": "GUQc503tL2oS"
      },
      "execution_count": 17,
      "outputs": []
    },
    {
      "cell_type": "code",
      "source": [
        "print(\"Toplama: \", a+b)\n",
        "print(\"Cikarma: \", a-b)\n",
        "print(\"Dizinin kendisi ile carpimi (karesi) : \", a**2)"
      ],
      "metadata": {
        "colab": {
          "base_uri": "https://localhost:8080/"
        },
        "id": "Z8v3XX2SL7GO",
        "outputId": "0e175ef6-9893-4a0d-9601-d7e04cf4d60d"
      },
      "execution_count": 18,
      "outputs": [
        {
          "output_type": "stream",
          "name": "stdout",
          "text": [
            "Toplama:  [5 7 9]\n",
            "Cikarma:  [-3 -3 -3]\n",
            "Dizinin kendisi ile carpimi (karesi) :  [1 4 9]\n"
          ]
        }
      ]
    },
    {
      "cell_type": "code",
      "source": [
        "# filtreleme\n",
        "a = np.array([1,2,3])\n",
        "filtre = a < 2 # a array'nin icerisinde bulunan 2 den kucuk degerleri goster\n",
        "filtre"
      ],
      "metadata": {
        "colab": {
          "base_uri": "https://localhost:8080/"
        },
        "id": "xZK6cCXnMBdO",
        "outputId": "4c8632ff-eff9-4f50-9aef-358fb22c0d23"
      },
      "execution_count": 19,
      "outputs": [
        {
          "output_type": "execute_result",
          "data": {
            "text/plain": [
              "array([ True, False, False])"
            ]
          },
          "metadata": {},
          "execution_count": 19
        }
      ]
    },
    {
      "cell_type": "code",
      "source": [
        "#matris çarpımı (1*4) + (2*5) + (3*6)\n",
        "a.dot(b)"
      ],
      "metadata": {
        "colab": {
          "base_uri": "https://localhost:8080/"
        },
        "id": "I-LoyoAkMDeN",
        "outputId": "278130c7-c408-4592-edea-fede4a7c56b4"
      },
      "execution_count": 20,
      "outputs": [
        {
          "output_type": "execute_result",
          "data": {
            "text/plain": [
              "32"
            ]
          },
          "metadata": {},
          "execution_count": 20
        }
      ]
    },
    {
      "cell_type": "code",
      "source": [
        "a = np.array([[1,2,3],[4,5,6]]) # 2x3\n",
        "b = np.array([[4,5,6],[1,2,3]]) # 2x3 ->T-> 3x2\n",
        "\n",
        "\"\"\"\n",
        "T transpoz alma işlemini ifade eder:\n",
        "matris çarpımı yapmak ilk matrisin sütun sayısı ikinci matrisin satır sayısına eşit olmalıdır.\n",
        "A matrisi 3 x 4 boyutunda olsun.\n",
        "B matrisi 4 x 2 boyutunda olsun.\n",
        "A ve B matrisleri çarpılabilir, çünkü A'nın sütun sayısı (4) B'nin satır sayısına (4) eşittir.\n",
        "Sonuç matrisi 3 x 2 boyutunda olacaktır.\n",
        "\"\"\"\n",
        "\n",
        "b.T\n",
        "a.dot(b.T)\n"
      ],
      "metadata": {
        "colab": {
          "base_uri": "https://localhost:8080/"
        },
        "id": "XQywIqGMMcNo",
        "outputId": "c490e887-e96f-4d9c-f105-6fb91006cecf"
      },
      "execution_count": 28,
      "outputs": [
        {
          "output_type": "execute_result",
          "data": {
            "text/plain": [
              "array([[32, 14],\n",
              "       [77, 32]])"
            ]
          },
          "metadata": {},
          "execution_count": 28
        }
      ]
    },
    {
      "cell_type": "code",
      "source": [
        "#sum() : her sütunu kendi içinde toplar\n",
        "a = np.array([[1,2,3],\n",
        "              [4,5,6]])\n",
        "print(\"sum: \", sum(a))\n",
        "\n",
        "#np.sum() : bütün elemanların toplamı\n",
        "print(\"np.sum: \", np.sum(a))\n",
        "\n",
        "# sütunları np ile toplamak için axis=0 kullanabiliriz\n",
        "print(\"np.sum(axis=0): \", np.sum(a, axis=0))\n",
        "\n",
        "#satırları np ile toplamak için axis=1 kullanabiliriz\n",
        "print(\"np.sum(axis=1): \", np.sum(a, axis=1))\n",
        ""
      ],
      "metadata": {
        "colab": {
          "base_uri": "https://localhost:8080/"
        },
        "id": "yawVF_K5N3fb",
        "outputId": "ebb6d7ab-e754-460c-e67c-ad5ad72b65ad"
      },
      "execution_count": 31,
      "outputs": [
        {
          "output_type": "stream",
          "name": "stdout",
          "text": [
            "sum:  [5 7 9]\n",
            "np.sum:  21\n",
            "np.sum(axis=0):  [5 7 9]\n",
            "np.sum(axis=1):  [ 6 15]\n"
          ]
        }
      ]
    },
    {
      "cell_type": "code",
      "source": [
        "a = np.array([[1,2,3],\n",
        "              [4,5,6]])\n",
        "#max()\n",
        "print(\"max:\", a.max())\n",
        "# np.max()\n",
        "print(\"npmax: \", np.max(a))\n",
        "print(\"npmax:(sütun) \", np.max(a, axis=0))\n",
        "print(\"npmax:(satır) \", np.max(a, axis=1))"
      ],
      "metadata": {
        "colab": {
          "base_uri": "https://localhost:8080/"
        },
        "id": "jsonG95bOh8n",
        "outputId": "74e55071-c3e3-4b43-86e9-12c31bea6db4"
      },
      "execution_count": 39,
      "outputs": [
        {
          "output_type": "stream",
          "name": "stdout",
          "text": [
            "max: 6\n",
            "npmax:  6\n",
            "npmax:(sütun)  [4 5 6]\n",
            "npmax:(satır)  [3 6]\n"
          ]
        }
      ]
    },
    {
      "cell_type": "code",
      "source": [
        "a = np.array([[1,2,3],\n",
        "              [4,5,6]])\n",
        "#min()\n",
        "print(\"min:\", a.min())\n",
        "# np.min()\n",
        "print(\"npmin: \", np.min(a))\n",
        "print(\"npmin:(sütun) \", np.min(a, axis=0))\n",
        "print(\"npmin:(satır) \", np.min(a, axis=1))"
      ],
      "metadata": {
        "colab": {
          "base_uri": "https://localhost:8080/"
        },
        "id": "-GhMaKXxPQGg",
        "outputId": "1f9594da-2a99-41e2-82db-58693f84805b"
      },
      "execution_count": 40,
      "outputs": [
        {
          "output_type": "stream",
          "name": "stdout",
          "text": [
            "min: 1\n",
            "npmin:  1\n",
            "npmin:(sütun)  [1 2 3]\n",
            "npmin:(satır)  [1 4]\n"
          ]
        }
      ]
    },
    {
      "cell_type": "code",
      "source": [
        "# satir satir toplama\n",
        "a.sum(axis = 1)"
      ],
      "metadata": {
        "colab": {
          "base_uri": "https://localhost:8080/"
        },
        "id": "gFkCtw1wP0PS",
        "outputId": "cadcb5ff-9d58-4a95-e18b-d1673eb03189"
      },
      "execution_count": 41,
      "outputs": [
        {
          "output_type": "execute_result",
          "data": {
            "text/plain": [
              "array([ 6, 15])"
            ]
          },
          "metadata": {},
          "execution_count": 41
        }
      ]
    },
    {
      "cell_type": "code",
      "source": [
        "# sutun sutun toplama\n",
        "a.sum(axis = 0)"
      ],
      "metadata": {
        "colab": {
          "base_uri": "https://localhost:8080/"
        },
        "id": "DND1322EP2lA",
        "outputId": "b2e80356-0a54-4fb2-cceb-d8f015fec8a4"
      },
      "execution_count": 42,
      "outputs": [
        {
          "output_type": "execute_result",
          "data": {
            "text/plain": [
              "array([5, 7, 9])"
            ]
          },
          "metadata": {},
          "execution_count": 42
        }
      ]
    },
    {
      "cell_type": "code",
      "source": [
        "# kare koku\n",
        "np.sqrt(a)"
      ],
      "metadata": {
        "colab": {
          "base_uri": "https://localhost:8080/"
        },
        "id": "fkWaezUiP5Sw",
        "outputId": "871f44cc-e576-40d4-8290-85d084155816"
      },
      "execution_count": 43,
      "outputs": [
        {
          "output_type": "execute_result",
          "data": {
            "text/plain": [
              "array([[1.        , 1.41421356, 1.73205081],\n",
              "       [2.        , 2.23606798, 2.44948974]])"
            ]
          },
          "metadata": {},
          "execution_count": 43
        }
      ]
    },
    {
      "cell_type": "code",
      "source": [
        "# elemanların karesi\n",
        "print(np.square(a))\n",
        "print(a**2)"
      ],
      "metadata": {
        "colab": {
          "base_uri": "https://localhost:8080/"
        },
        "id": "DQqDiLoOP8jM",
        "outputId": "100ef029-e264-41c7-aead-aa50e66a8d3b"
      },
      "execution_count": 45,
      "outputs": [
        {
          "output_type": "stream",
          "name": "stdout",
          "text": [
            "[[ 1  4  9]\n",
            " [16 25 36]]\n",
            "[[ 1  4  9]\n",
            " [16 25 36]]\n"
          ]
        }
      ]
    },
    {
      "cell_type": "code",
      "source": [
        "#random.rand() fonksiyonu, 0 ile 1 arasında rastgele sayılar üretmek için kullanılır. Üretilen sayılar, düzgün dağılımlıdır, yani her sayının seçilme olasılığı eşittir.\n",
        "#boyutlarını alır (2,3)\n",
        "np.random.rand(3,3)"
      ],
      "metadata": {
        "colab": {
          "base_uri": "https://localhost:8080/"
        },
        "id": "-oo73wuIQDcY",
        "outputId": "4951b5ba-4408-4885-a87f-1754afaf4194"
      },
      "execution_count": 47,
      "outputs": [
        {
          "output_type": "execute_result",
          "data": {
            "text/plain": [
              "array([[0.84221518, 0.22675399, 0.10878031],\n",
              "       [0.8067476 , 0.3183473 , 0.65075578],\n",
              "       [0.55582833, 0.83857178, 0.16421472]])"
            ]
          },
          "metadata": {},
          "execution_count": 47
        }
      ]
    },
    {
      "cell_type": "code",
      "source": [
        "#random.random() 0.0 ile 1.0 arasında rastgele kayan noktalı sayılar üretmek için kullanılır. Üretilen sayılar, yarı açık aralıkta yer alır, yani 0.0 dahil edilirken 1.0 hariç tutulur.\n",
        "#boyutları tuple olarak alır ((2,3))\n",
        "np.random.random((3,3))\n"
      ],
      "metadata": {
        "colab": {
          "base_uri": "https://localhost:8080/"
        },
        "id": "KZK45AtuQUXS",
        "outputId": "4bc11d00-305b-4485-9ac8-3829aedc1899"
      },
      "execution_count": 48,
      "outputs": [
        {
          "output_type": "execute_result",
          "data": {
            "text/plain": [
              "array([[0.97082533, 0.89955846, 0.56744328],\n",
              "       [0.65570892, 0.57980492, 0.60846729],\n",
              "       [0.52516961, 0.12087606, 0.28015162]])"
            ]
          },
          "metadata": {},
          "execution_count": 48
        }
      ]
    },
    {
      "cell_type": "code",
      "source": [
        "#random.normal(): normal dağılıma (Gauss dağılımı) sahip rastgele sayılar üretmek için kullanılır.\n",
        "rastgele_dizi = np.random.normal(0 ,1 , (5,3)) # normal dagilima 0 ortalamali 1 std, 5 adet deger uret\n",
        "rastgele_dizi"
      ],
      "metadata": {
        "colab": {
          "base_uri": "https://localhost:8080/"
        },
        "id": "cMFxSc5xQ2vu",
        "outputId": "fae85248-686d-40b8-a594-f020924210e1"
      },
      "execution_count": 49,
      "outputs": [
        {
          "output_type": "execute_result",
          "data": {
            "text/plain": [
              "array([[ 0.1244944 , -0.16841764, -1.01640386],\n",
              "       [-0.21388584, -1.7992132 ,  0.25395501],\n",
              "       [ 0.4725666 ,  0.57625737,  1.23707154],\n",
              "       [-0.63564479, -0.26617006,  0.44686822],\n",
              "       [ 0.20511871,  0.47124842, -0.62165478]])"
            ]
          },
          "metadata": {},
          "execution_count": 49
        }
      ]
    },
    {
      "cell_type": "markdown",
      "source": [
        "**İndexleme ve Slicing**"
      ],
      "metadata": {
        "id": "Y62Q1zR7XKVu"
      }
    },
    {
      "cell_type": "code",
      "source": [
        "dizi= np.array([1,2,3,4,5,6,7])\n",
        "dizi[3]"
      ],
      "metadata": {
        "colab": {
          "base_uri": "https://localhost:8080/"
        },
        "id": "_2lGlb3rXOOS",
        "outputId": "a7a7ce38-a3ff-4c93-dd36-2031e8de4432"
      },
      "execution_count": 50,
      "outputs": [
        {
          "output_type": "execute_result",
          "data": {
            "text/plain": [
              "4"
            ]
          },
          "metadata": {},
          "execution_count": 50
        }
      ]
    },
    {
      "cell_type": "code",
      "source": [
        "dizi[0:4] # 0--4\n",
        "dizi[:4] #4e kadar\n",
        "dizi[::-1]#tersten"
      ],
      "metadata": {
        "colab": {
          "base_uri": "https://localhost:8080/"
        },
        "id": "7D3gU5TNXTid",
        "outputId": "3c0122cb-386c-4a55-95c7-30b8b8a0dcec"
      },
      "execution_count": 56,
      "outputs": [
        {
          "output_type": "execute_result",
          "data": {
            "text/plain": [
              "array([7, 6, 5, 4, 3, 2, 1])"
            ]
          },
          "metadata": {},
          "execution_count": 56
        }
      ]
    },
    {
      "cell_type": "code",
      "source": [
        "dizi2D = np.array([[1,2,3,4,5],[6,7,8,9,10]])\n",
        "dizi2D[1,2]  # 1.indise sahip satır ( 2.satır) ve 2.indise sahip sütun(3.sütun) kesişimi [8]\n",
        "dizi2D[1,:] #1.indisli satır ve bütün sütunlar [6,7,8,9,10]\n",
        "dizi2D[:,2] #bütün satırlar , 2.insize sahip sütun[3,8]\n",
        "dizi2D[ 0, 0:2] #0.indisli satır ve 0dan2ye kadar sütun [1,2]"
      ],
      "metadata": {
        "colab": {
          "base_uri": "https://localhost:8080/"
        },
        "id": "qxh0XyrSXjUq",
        "outputId": "a2b43e6c-82ba-43ec-a4bf-87f486a3f441"
      },
      "execution_count": 61,
      "outputs": [
        {
          "output_type": "execute_result",
          "data": {
            "text/plain": [
              "array([1, 2])"
            ]
          },
          "metadata": {},
          "execution_count": 61
        }
      ]
    },
    {
      "cell_type": "code",
      "source": [
        "dizi2D[:, 2:4]"
      ],
      "metadata": {
        "colab": {
          "base_uri": "https://localhost:8080/"
        },
        "id": "w2rKfpSEYvmm",
        "outputId": "f0bda7e6-3421-487d-e8c7-d9ac7756621d"
      },
      "execution_count": 62,
      "outputs": [
        {
          "output_type": "execute_result",
          "data": {
            "text/plain": [
              "array([[3, 4],\n",
              "       [8, 9]])"
            ]
          },
          "metadata": {},
          "execution_count": 62
        }
      ]
    },
    {
      "cell_type": "code",
      "source": [
        "dizi2D[-1, :] #sonuncu satur bütün sütunlar"
      ],
      "metadata": {
        "colab": {
          "base_uri": "https://localhost:8080/"
        },
        "id": "i2KfRzUKYykt",
        "outputId": "abeaf0a7-525b-4fd7-94b9-c784b39a6608"
      },
      "execution_count": 64,
      "outputs": [
        {
          "output_type": "execute_result",
          "data": {
            "text/plain": [
              "array([ 6,  7,  8,  9, 10])"
            ]
          },
          "metadata": {},
          "execution_count": 64
        }
      ]
    },
    {
      "cell_type": "code",
      "source": [
        "dizi2D[[0,1], [1,3]]"
      ],
      "metadata": {
        "colab": {
          "base_uri": "https://localhost:8080/"
        },
        "id": "wbyka55VY4An",
        "outputId": "7d58ba33-94ed-4a11-8f5d-b3946140d303"
      },
      "execution_count": 65,
      "outputs": [
        {
          "output_type": "execute_result",
          "data": {
            "text/plain": [
              "array([2, 9])"
            ]
          },
          "metadata": {},
          "execution_count": 65
        }
      ]
    },
    {
      "cell_type": "markdown",
      "source": [
        "**Shape Manipulation**"
      ],
      "metadata": {
        "id": "XehbALrpY57H"
      }
    },
    {
      "cell_type": "code",
      "source": [
        "numpy_array_2D = np.array([[1,2,3],[4,5,6],[7,8,9]])\n",
        "numpy_array_2D"
      ],
      "metadata": {
        "colab": {
          "base_uri": "https://localhost:8080/"
        },
        "id": "wATZ2j3kY91d",
        "outputId": "03e8475f-8976-40d5-ddd5-71723d103a2b"
      },
      "execution_count": 66,
      "outputs": [
        {
          "output_type": "execute_result",
          "data": {
            "text/plain": [
              "array([[1, 2, 3],\n",
              "       [4, 5, 6],\n",
              "       [7, 8, 9]])"
            ]
          },
          "metadata": {},
          "execution_count": 66
        }
      ]
    },
    {
      "cell_type": "code",
      "source": [
        "numpy_array_2D_shape= numpy_array_2D.shape\n",
        "numpy_array_2D_shape"
      ],
      "metadata": {
        "colab": {
          "base_uri": "https://localhost:8080/"
        },
        "id": "OPNnTMr8ZyBu",
        "outputId": "e5617051-8b63-4b00-9afb-cd7644e32d09"
      },
      "execution_count": 67,
      "outputs": [
        {
          "output_type": "execute_result",
          "data": {
            "text/plain": [
              "(3, 3)"
            ]
          },
          "metadata": {},
          "execution_count": 67
        }
      ]
    },
    {
      "cell_type": "code",
      "source": [
        "#reshape() verilen boyutlarda array oluşturur\n",
        "\"\"\"\"\n",
        "[[1,2]\n",
        "[3,4]]\n",
        "\n",
        "reshape(4,-1) --> 2x2 lik matrisi 4x1 lik matris yapar\n",
        "\n",
        "[1,2,3,4]"
      ],
      "metadata": {
        "id": "EtX8tKe6b4fc"
      },
      "execution_count": null,
      "outputs": []
    },
    {
      "cell_type": "code",
      "source": [
        "\n",
        "#numpy_array_2D_shape[0] --> satır sayısı YANİ 3\n",
        "#numpy_array_2D_shape[1] --> sütun sayısı YANİ 3\n",
        "#3*3 = 9 oldu\n",
        "#(9,1)> 9x1 lik bir vektör oluşturdu\n",
        "\n",
        "numpy_array_2D.reshape(numpy_array_2D_shape[0] * numpy_array_2D_shape[1] , 1)\n",
        "\n"
      ],
      "metadata": {
        "colab": {
          "base_uri": "https://localhost:8080/"
        },
        "id": "zRYJhCvtaDs3",
        "outputId": "7c767bdd-e664-4cc0-8dc1-34b4eae2d333"
      },
      "execution_count": 96,
      "outputs": [
        {
          "output_type": "execute_result",
          "data": {
            "text/plain": [
              "array([[1],\n",
              "       [2],\n",
              "       [3],\n",
              "       [4],\n",
              "       [5],\n",
              "       [6],\n",
              "       [7],\n",
              "       [8],\n",
              "       [9]])"
            ]
          },
          "metadata": {},
          "execution_count": 96
        }
      ]
    },
    {
      "cell_type": "code",
      "source": [
        "numpy_array_2D.reshape(numpy_array_2D_shape[0] * numpy_array_2D_shape[1] , -1)\n",
        "# -1 olması sütun boyutunun oto olarak atanmasını sağlar.\n"
      ],
      "metadata": {
        "colab": {
          "base_uri": "https://localhost:8080/"
        },
        "id": "44aKRcd6bD4y",
        "outputId": "bc8de3bc-1441-459a-d886-d745aa94f7f3"
      },
      "execution_count": 70,
      "outputs": [
        {
          "output_type": "execute_result",
          "data": {
            "text/plain": [
              "array([[1],\n",
              "       [2],\n",
              "       [3],\n",
              "       [4],\n",
              "       [5],\n",
              "       [6],\n",
              "       [7],\n",
              "       [8],\n",
              "       [9]])"
            ]
          },
          "metadata": {},
          "execution_count": 70
        }
      ]
    },
    {
      "cell_type": "code",
      "source": [
        "# ravel() :Aslında yukardaki işlemi yapıyor yani çok boyutlu bir arrayi tek boyutlu arraya dönüştürür\n",
        "numpy_array_2D.ravel()"
      ],
      "metadata": {
        "colab": {
          "base_uri": "https://localhost:8080/"
        },
        "id": "xHiEBkR_bevZ",
        "outputId": "3705de78-07b8-4dce-94ec-5593b42664bc"
      },
      "execution_count": 71,
      "outputs": [
        {
          "output_type": "execute_result",
          "data": {
            "text/plain": [
              "array([1, 2, 3, 4, 5, 6, 7, 8, 9])"
            ]
          },
          "metadata": {},
          "execution_count": 71
        }
      ]
    },
    {
      "cell_type": "code",
      "source": [
        "# A array = 2 boyutlu bir tane array -> (3,5)\n",
        "#B array = 1 boyutlu bir tane array -> (15,)\n",
        "#C = A + B\n",
        "#D=linspace ve E=arange ile (3,5) lik matrisler olusturalim.\n",
        "#F = D+E\n",
        "import numpy as np\n",
        "A = np.random.rand(3,5)\n",
        "B = np.arange(15)   # 0'dan 14'e kadar sayıları içeren bir dizi\n",
        "B=B.reshape(3,5)\n",
        "C = A + B\n",
        "D = np.linspace(10,50,15).reshape(3,5)\n",
        "E = np.arange(10,160,10).reshape(3,5)\n",
        "F = D + E\n",
        "#C'nin ve F'nin her bir elemanini for dongusu ile eleman eleman carpip G = (15,1) boyutunda elde edelim.\n",
        "G=[]\n",
        "for i in range (C.shape[0]): #satır sayısı : 3\n",
        "  for j in range(C.shape[1]): #sütun sayısı : 5\n",
        "    G.append(C[i,j] * F[i,j])\n",
        "print(\"G shape: \",np.array(G).shape)\n",
        "\n",
        "#toplam degerleri eger 1 den buyukse G1 isimli bir listeye atalim, else ise G2 isimli listeye atalim\n",
        "C = C.reshape(15,1)\n",
        "F= F.reshape(15,1)\n",
        "G1=[]\n",
        "G2=[]\n",
        "C.shape[0]\n",
        "for i in range(C.shape[0]):\n",
        "  toplam=C[i,0]+F[i,0]\n",
        "  if toplam>1:\n",
        "    G1.append(toplam)\n",
        "  else:\n",
        "    G2.append(toplam)\n",
        "  G1.append(toplam)\n",
        "print(G1,G2)\n",
        "\n",
        "#C ve F'yi (15,1) sonrasında C'nin ilk elemani ile F'nin son elemani toplayarak ilerleyelim.\n",
        "C_flat = C.reshape(-1, 1)  # -1 otomatik olarak 15 elemanı kullanır\n",
        "F_flat = F.reshape(-1, 1)\n",
        "\n",
        "# G1 ve G2 listelerini tanımlama\n",
        "G1 = []\n",
        "G2 = []\n",
        "\n",
        "# C'nin ilk elemanı ve F'nin son elemanı toplama işlemi ile ilerleme\n",
        "for i in range(len(C_flat)):  # C_flat'in uzunluğunu kullanarak döngüyü oluştur\n",
        "    toplam = C_flat[i, 0] + F_flat[len(F_flat) - 1 - i, 0]  # len kullanarak sondan eleman al\n",
        "    if toplam > 1:\n",
        "        G1.append(toplam)\n",
        "    else:\n",
        "        G2.append(toplam)\n",
        "# Sonuçları yazdırma\n",
        "print(\"G1 (Toplam > 1 olanlar):\", G1)\n",
        "print(\"G2 (Toplam <= 1 olanlar):\", G2)"
      ],
      "metadata": {
        "colab": {
          "base_uri": "https://localhost:8080/"
        },
        "id": "xJWgdn5Vbtc2",
        "outputId": "b5371b1f-a49c-4c4f-b2eb-06bdb16b0671"
      },
      "execution_count": 94,
      "outputs": [
        {
          "output_type": "stream",
          "name": "stdout",
          "text": [
            "G shape:  (15,)\n",
            "[20.903685222047415, 20.903685222047415, 34.28148319397098, 34.28148319397098, 47.85637710688183, 47.85637710688183, 62.486692120638565, 62.486692120638565, 75.56272795499503, 75.56272795499503, 89.3455050375616, 89.3455050375616, 103.69856435309477, 103.69856435309477, 117.29449520828896, 117.29449520828896, 131.52654479172946, 131.52654479172946, 144.9145883902157, 144.9145883902157, 158.9644934984972, 158.9644934984972, 173.20149378798533, 173.20149378798533, 186.29439245737078, 186.29439245737078, 201.07418506094214, 201.07418506094214, 214.75512437328516, 214.75512437328516] []\n",
            "G1 (Toplam > 1 olanlar): [200.90368522204741, 188.56719747968526, 176.4278056783104, 165.34383497778143, 152.70558509785215, 140.77407646613304, 129.41285006738048, 117.29449520828896, 105.81225907744374, 93.48601696164427, 81.82163635564008, 70.34435093084244, 57.72296388594221, 46.788470775227864, 34.755124373285156]\n",
            "G2 (Toplam <= 1 olanlar): []\n"
          ]
        }
      ]
    }
  ]
}